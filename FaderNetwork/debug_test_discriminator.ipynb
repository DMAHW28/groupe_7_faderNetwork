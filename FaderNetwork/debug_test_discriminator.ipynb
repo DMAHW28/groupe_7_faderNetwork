{
 "cells": [
  {
   "cell_type": "code",
   "execution_count": 1,
   "id": "c237e13a-b9f8-4f21-9f95-4f3391820456",
   "metadata": {},
   "outputs": [],
   "source": [
    "from Data.preprocess_func import *\n",
    "from Models.fader_network import FaderNetwork\n",
    "from Models.discriminator import Discriminator\n",
    "import torch\n",
    "from torch import nn\n",
    "import torch.optim as optim\n",
    "import matplotlib.pyplot as plt\n",
    "import numpy as np\n",
    "from tqdm import tqdm\n",
    "import argparse\n",
    "import os\n",
    "import argparse\n",
    "import torch\n",
    "import sys\n",
    "\n",
    "\n",
    "# Filtrer les arguments spécifiques à Jupyter\n",
    "sys.argv = sys.argv[:1]  # Supprimez tous les arguments supplémentaires\n",
    "\n",
    "\n",
    "# parse parameters\n",
    "parser = argparse.ArgumentParser(description='Images autoencoder')\n",
    "parser.add_argument(\"--name\", type=str, default=\"default\",\n",
    "                    help=\"Experiment name\")\n",
    "parser.add_argument(\"--img_sz\", type=int, default=256,\n",
    "                    help=\"Image sizes (images have to be squared)\")\n",
    "parser.add_argument(\"--img_fm\", type=int, default=3,\n",
    "                    help=\"Number of feature maps (1 for grayscale, 3 for RGB)\")\n",
    "parser.add_argument(\"--n_attr\", type=int, default=40,\n",
    "                    help=\"Attributes to classify\")\n",
    "parser.add_argument(\"--instance_norm\", type=bool, default=False,\n",
    "                    help=\"Use instance normalization instead of batch normalization\")\n",
    "parser.add_argument(\"--init_fm\", type=int, default=32,\n",
    "                    help=\"Number of initial filters in the encoder\")\n",
    "parser.add_argument(\"--max_fm\", type=int, default=512,\n",
    "                    help=\"Number maximum of filters in the autoencoder\")\n",
    "parser.add_argument(\"--n_layers\", type=int, default=6,\n",
    "                    help=\"Number of layers in the encoder / decoder\")\n",
    "parser.add_argument(\"--n_skip\", type=int, default=0,\n",
    "                    help=\"Number of skip connections\")\n",
    "parser.add_argument(\"--deconv_method\", type=str, default=\"convtranspose\",\n",
    "                    help=\"Deconvolution method\")\n",
    "parser.add_argument(\"--hid_dim\", type=int, default=512,\n",
    "                    help=\"Last hidden layer dimension for discriminator / classifier\")\n",
    "parser.add_argument(\"--dec_dropout\", type=float, default=0.,\n",
    "                    help=\"Dropout in the decoder\")\n",
    "parser.add_argument(\"--lat_dis_dropout\", type=float, default=0.3,\n",
    "                    help=\"Dropout in the latent discriminator\")\n",
    "parser.add_argument(\"--n_lat_dis\", type=int, default=1,\n",
    "                    help=\"Number of latent discriminator training steps\")\n",
    "parser.add_argument(\"--n_ptc_dis\", type=int, default=0,\n",
    "                    help=\"Number of patch discriminator training steps\")\n",
    "parser.add_argument(\"--n_clf_dis\", type=int, default=0,\n",
    "                    help=\"Number of classifier discriminator training steps\")\n",
    "parser.add_argument(\"--smooth_label\", type=float, default=0.2,\n",
    "                    help=\"Smooth label for patch discriminator\")\n",
    "parser.add_argument(\"--lambda_ae\", type=float, default=1,\n",
    "                    help=\"Autoencoder loss coefficient\")\n",
    "parser.add_argument(\"--lambda_lat_dis\", type=float, default=0.0001,\n",
    "                    help=\"Latent discriminator loss feedback coefficient\")\n",
    "parser.add_argument(\"--lambda_ptc_dis\", type=float, default=0,\n",
    "                    help=\"Patch discriminator loss feedback coefficient\")\n",
    "parser.add_argument(\"--lambda_clf_dis\", type=float, default=0,\n",
    "                    help=\"Classifier discriminator loss feedback coefficient\")\n",
    "parser.add_argument(\"--lambda_schedule\", type=float, default=500000,\n",
    "                    help=\"Progressively increase discriminators' lambdas (0 to disable)\")\n",
    "parser.add_argument(\"--v_flip\", type=bool, default=False,\n",
    "                    help=\"Random vertical flip for data augmentation\")\n",
    "parser.add_argument(\"--h_flip\", type=bool, default=True,\n",
    "                    help=\"Random horizontal flip for data augmentation\")\n",
    "parser.add_argument(\"--batch_size\", type=int, default=32,\n",
    "                    help=\"Batch size\")\n",
    "parser.add_argument(\"--ae_optimizer\", type=str, default=\"adam,lr=0.0002\",\n",
    "                    help=\"Autoencoder optimizer (SGD / RMSprop / Adam, etc.)\")\n",
    "parser.add_argument(\"--dis_optimizer\", type=str, default=\"adam,lr=0.0002\",\n",
    "                    help=\"Discriminator optimizer (SGD / RMSprop / Adam, etc.)\")\n",
    "parser.add_argument(\"--clip_grad_norm\", type=float, default=5,\n",
    "                    help=\"Clip gradient norms (0 to disable)\")\n",
    "parser.add_argument(\"--n_epochs\", type=int, default=1000,\n",
    "                    help=\"Total number of epochs\")\n",
    "parser.add_argument(\"--epoch_size\", type=int, default=50000,\n",
    "                    help=\"Number of samples per epoch\")\n",
    "parser.add_argument(\"--ae_reload\", type=str, default=\"\",\n",
    "                    help=\"Reload a pretrained encoder\")\n",
    "parser.add_argument(\"--lat_dis_reload\", type=str, default=\"\",\n",
    "                    help=\"Reload a pretrained latent discriminator\")\n",
    "parser.add_argument(\"--ptc_dis_reload\", type=str, default=\"\",\n",
    "                    help=\"Reload a pretrained patch discriminator\")\n",
    "parser.add_argument(\"--clf_dis_reload\", type=str, default=\"\",\n",
    "                    help=\"Reload a pretrained classifier discriminator\")\n",
    "parser.add_argument(\"--eval_clf\", type=str, default=\"\",\n",
    "                    help=\"Load an external classifier for evaluation\")\n",
    "parser.add_argument(\"--debug\", type=bool, default=False,\n",
    "                    help=\"Debug mode (only load a subset of the whole dataset)\")\n",
    "params = parser.parse_args()\n",
    "device = torch.device('cuda' if torch.cuda.is_available() else 'cpu')\n"
   ]
  },
  {
   "cell_type": "code",
   "execution_count": 2,
   "id": "bbe6c853-248a-43e8-8a47-661be2c2e153",
   "metadata": {},
   "outputs": [
    {
     "name": "stdout",
     "output_type": "stream",
     "text": [
      "Not load\n",
      "Processing images from index 1 to 10000 ...\n"
     ]
    },
    {
     "name": "stderr",
     "output_type": "stream",
     "text": [
      "Processing in batches: 100%|████████████████████| 10/10 [00:08<00:00,  1.17it/s]\n"
     ]
    },
    {
     "name": "stdout",
     "output_type": "stream",
     "text": [
      "Processing attributes from index 1 to 10000 ...\n"
     ]
    },
    {
     "name": "stderr",
     "output_type": "stream",
     "text": [
      "Processing Attibute: 9998it [00:00, 213401.38it/s]"
     ]
    },
    {
     "name": "stdout",
     "output_type": "stream",
     "text": [
      "Saving attributes to attributes_0.pth ...\n"
     ]
    },
    {
     "name": "stderr",
     "output_type": "stream",
     "text": [
      "\n"
     ]
    }
   ],
   "source": [
    "train_loader, valid_loader, test_loader = load_images(0, batch_size = 32, load=False)"
   ]
  },
  {
   "cell_type": "code",
   "execution_count": 3,
   "id": "cd543a3a-f93d-4210-b376-357d552d55a7",
   "metadata": {},
   "outputs": [
    {
     "name": "stdout",
     "output_type": "stream",
     "text": [
      "5000 2500 2500\n",
      "Discriminator(\n",
      "  (conv_layers): Sequential(\n",
      "    (0): Sequential(\n",
      "      (0): Conv2d(3, 32, kernel_size=(4, 4), stride=(2, 2), padding=(1, 1))\n",
      "      (1): LeakyReLU(negative_slope=0.2, inplace=True)\n",
      "    )\n",
      "    (1): Sequential(\n",
      "      (0): Conv2d(32, 64, kernel_size=(4, 4), stride=(2, 2), padding=(1, 1))\n",
      "      (1): BatchNorm2d(64, eps=1e-05, momentum=0.1, affine=True, track_running_stats=True)\n",
      "      (2): LeakyReLU(negative_slope=0.2, inplace=True)\n",
      "    )\n",
      "    (2): Sequential(\n",
      "      (0): Conv2d(64, 128, kernel_size=(4, 4), stride=(2, 2), padding=(1, 1))\n",
      "      (1): BatchNorm2d(128, eps=1e-05, momentum=0.1, affine=True, track_running_stats=True)\n",
      "      (2): LeakyReLU(negative_slope=0.2, inplace=True)\n",
      "    )\n",
      "    (3): Sequential(\n",
      "      (0): Conv2d(128, 256, kernel_size=(4, 4), stride=(2, 2), padding=(1, 1))\n",
      "      (1): BatchNorm2d(256, eps=1e-05, momentum=0.1, affine=True, track_running_stats=True)\n",
      "      (2): LeakyReLU(negative_slope=0.2, inplace=True)\n",
      "    )\n",
      "    (4): Sequential(\n",
      "      (0): Conv2d(256, 512, kernel_size=(4, 4), stride=(2, 2), padding=(1, 1))\n",
      "      (1): BatchNorm2d(512, eps=1e-05, momentum=0.1, affine=True, track_running_stats=True)\n",
      "      (2): LeakyReLU(negative_slope=0.2, inplace=True)\n",
      "    )\n",
      "    (5): Sequential(\n",
      "      (0): Conv2d(512, 512, kernel_size=(4, 4), stride=(2, 2), padding=(1, 1))\n",
      "      (1): BatchNorm2d(512, eps=1e-05, momentum=0.1, affine=True, track_running_stats=True)\n",
      "      (2): LeakyReLU(negative_slope=0.2, inplace=True)\n",
      "    )\n",
      "    (6): Sequential(\n",
      "      (0): Conv2d(512, 512, kernel_size=(4, 4), stride=(2, 2), padding=(1, 1))\n",
      "      (1): BatchNorm2d(512, eps=1e-05, momentum=0.1, affine=True, track_running_stats=True)\n",
      "      (2): LeakyReLU(negative_slope=0.2, inplace=True)\n",
      "    )\n",
      "    (7): Sequential(\n",
      "      (0): Conv2d(512, 512, kernel_size=(4, 4), stride=(2, 2), padding=(1, 1))\n",
      "      (1): BatchNorm2d(512, eps=1e-05, momentum=0.1, affine=True, track_running_stats=True)\n",
      "      (2): LeakyReLU(negative_slope=0.2, inplace=True)\n",
      "    )\n",
      "  )\n",
      "  (proj_layers): Sequential(\n",
      "    (0): Linear(in_features=512, out_features=512, bias=True)\n",
      "    (1): LeakyReLU(negative_slope=0.2, inplace=True)\n",
      "    (2): Linear(in_features=512, out_features=40, bias=True)\n",
      "  )\n",
      ")\n"
     ]
    }
   ],
   "source": [
    "import torch.nn.functional as F\n",
    "print(len(train_loader.dataset), len(valid_loader.dataset), len(test_loader.dataset))\n",
    "# Initialisation des modèles\n",
    "auto_co = FaderNetwork().to(device) # Encodeur + Décodeur\n",
    "latent_dis = Discriminator(params).to(device)\n",
    "patch_dis = Discriminator(params, mode = \"patch\").to(device)\n",
    "cls_dis = Discriminator(params, mode = \"classifier\").to(device)\n",
    "# print(latent_dis)\n",
    "# print(patch_dis)\n",
    "print(cls_dis)"
   ]
  },
  {
   "cell_type": "code",
   "execution_count": 4,
   "id": "034d2a4e-9dd5-4ef6-bbc9-46f1d9855be5",
   "metadata": {},
   "outputs": [
    {
     "name": "stderr",
     "output_type": "stream",
     "text": [
      "Epoch : 0: 100%|██████████████████████████████| 157/157 [03:08<00:00,  1.20s/it]\n",
      "Epoch : 1: 100%|██████████████████████████████| 157/157 [03:22<00:00,  1.29s/it]\n",
      "Epoch : 2: 100%|██████████████████████████████| 157/157 [03:18<00:00,  1.27s/it]\n",
      "Epoch : 3: 100%|██████████████████████████████| 157/157 [03:20<00:00,  1.27s/it]\n",
      "Epoch : 4: 100%|██████████████████████████████| 157/157 [03:22<00:00,  1.29s/it]\n",
      "Epoch : 5: 100%|██████████████████████████████| 157/157 [03:17<00:00,  1.26s/it]\n",
      "Epoch : 6: 100%|██████████████████████████████| 157/157 [03:16<00:00,  1.25s/it]\n",
      "Epoch : 7: 100%|██████████████████████████████| 157/157 [03:17<00:00,  1.26s/it]\n",
      "Epoch : 8: 100%|██████████████████████████████| 157/157 [03:20<00:00,  1.28s/it]\n",
      "Epoch : 9: 100%|██████████████████████████████| 157/157 [03:21<00:00,  1.28s/it]\n",
      "Epoch : 10: 100%|█████████████████████████████| 157/157 [03:22<00:00,  1.29s/it]\n",
      "Epoch : 11: 100%|█████████████████████████████| 157/157 [03:20<00:00,  1.27s/it]\n",
      "Epoch : 12: 100%|█████████████████████████████| 157/157 [03:21<00:00,  1.29s/it]\n",
      "Epoch : 13: 100%|█████████████████████████████| 157/157 [03:20<00:00,  1.28s/it]\n",
      "Epoch : 14: 100%|█████████████████████████████| 157/157 [03:21<00:00,  1.28s/it]\n",
      "Epoch : 15: 100%|█████████████████████████████| 157/157 [03:22<00:00,  1.29s/it]\n",
      "Epoch : 16: 100%|█████████████████████████████| 157/157 [03:23<00:00,  1.30s/it]\n",
      "Epoch : 17: 100%|█████████████████████████████| 157/157 [03:20<00:00,  1.28s/it]\n",
      "Epoch : 18: 100%|█████████████████████████████| 157/157 [03:19<00:00,  1.27s/it]\n",
      "Epoch : 19: 100%|█████████████████████████████| 157/157 [03:20<00:00,  1.28s/it]\n",
      "Epoch : 20: 100%|█████████████████████████████| 157/157 [03:21<00:00,  1.28s/it]\n",
      "Epoch : 21: 100%|█████████████████████████████| 157/157 [03:20<00:00,  1.28s/it]\n",
      "Epoch : 22: 100%|█████████████████████████████| 157/157 [03:24<00:00,  1.30s/it]\n",
      "Epoch : 23: 100%|█████████████████████████████| 157/157 [03:15<00:00,  1.25s/it]\n",
      "Epoch : 24: 100%|█████████████████████████████| 157/157 [03:14<00:00,  1.24s/it]\n",
      "Epoch : 25: 100%|█████████████████████████████| 157/157 [03:13<00:00,  1.23s/it]\n",
      "Epoch : 26: 100%|█████████████████████████████| 157/157 [03:13<00:00,  1.23s/it]\n",
      "Epoch : 27: 100%|█████████████████████████████| 157/157 [03:13<00:00,  1.23s/it]\n",
      "Epoch : 28: 100%|█████████████████████████████| 157/157 [03:20<00:00,  1.27s/it]\n",
      "Epoch : 29: 100%|█████████████████████████████| 157/157 [03:19<00:00,  1.27s/it]\n"
     ]
    },
    {
     "data": {
      "image/png": "[encoded data removed]",
      "text/plain": [
       "<Figure size 640x480 with 1 Axes>"
      ]
     },
     "metadata": {},
     "output_type": "display_data"
    },
    {
     "data": {
      "image/png": "[encoded data removed]",
      "text/plain": [
       "<Figure size 640x480 with 1 Axes>"
      ]
     },
     "metadata": {},
     "output_type": "display_data"
    }
   ],
   "source": [
    "criterion = nn.BCEWithLogitsLoss()\n",
    "epochs = 30\n",
    "sgd = optim.Adam(auto_co.parameters(), lr=1e-2)\n",
    "\n",
    "losses = []\n",
    "accuracies = []\n",
    "for epoch in range(epochs):\n",
    "    train_loss = 0\n",
    "    train_accuracy = 0\n",
    "    auto_co.eval()\n",
    "    latent_dis.train()\n",
    "    for (X, y) in tqdm(train_loader, desc=f\"Epoch : {epoch}\"):\n",
    "        X = 2 * X - 1\n",
    "        X, y = X.to(device), y.to(device)\n",
    "        sgd.zero_grad()\n",
    "        z = auto_co.encoder(X)\n",
    "        y_pred = latent_dis(z)\n",
    "        probs = torch.sigmoid(y_pred)  # Conversion logits → probabilités\n",
    "        pred = probs > 0.5\n",
    "        train_accuracy += pred.eq(y.view_as(pred)).sum().item()\n",
    "        loss = criterion(y_pred, y)\n",
    "        train_loss += loss.item()\n",
    "        loss.backward()\n",
    "        sgd.step()\n",
    "    accuracies.append(train_accuracy / (40*len(train_loader.dataset)))\n",
    "    losses.append(train_loss / len(train_loader.dataset))\n",
    "\n",
    "plt.plot(losses)\n",
    "plt.title(\"Variation de l'erreur par epoque\")\n",
    "plt.show()\n",
    "\n",
    "plt.plot(accuracies)\n",
    "plt.title(\"Variation du taux de prédiction par epoque\")\n",
    "plt.show()"
   ]
  },
  {
   "cell_type": "code",
   "execution_count": 5,
   "id": "87911f71-d815-4384-bdc1-96a061a0710e",
   "metadata": {},
   "outputs": [
    {
     "name": "stderr",
     "output_type": "stream",
     "text": [
      "100%|███████████████████████████████████████████| 79/79 [01:06<00:00,  1.20it/s]"
     ]
    },
    {
     "name": "stdout",
     "output_type": "stream",
     "text": [
      "\n",
      "Test set: Average loss: 0.0195, Accuracy: 1802/2500 (72%)\n",
      "\n"
     ]
    },
    {
     "name": "stderr",
     "output_type": "stream",
     "text": [
      "\n"
     ]
    }
   ],
   "source": [
    "test_loss = 0\n",
    "correct = 0\n",
    "\n",
    "# pour ne aps calculer les gradients (gain de temps et de mémoire)\n",
    "with torch.no_grad():\n",
    "    for data, target in tqdm(test_loader):\n",
    "        data = 2 * data - 1\n",
    "        data, target = data.to(device), target.to(device)\n",
    "        z = auto_co.encoder(data)\n",
    "        y_pred = latent_dis(z)\n",
    "        test_loss += criterion(y_pred, target).item()\n",
    "        probs = torch.sigmoid(y_pred)  # Conversion logits → probabilités\n",
    "        pred = probs > 0.5\n",
    "        correct += pred.eq(target.view_as(pred)).sum().item()/40\n",
    "\n",
    "\n",
    "test_loss /= len(test_loader.dataset)\n",
    "\n",
    "print('\\nTest set: Average loss: {:.4f}, Accuracy: {:.0f}/{} ({:.0f}%)\\n'.format(\n",
    "    test_loss, correct, len(test_loader.dataset),\n",
    "    100. * correct / len(test_loader.dataset)))"
   ]
  },
  {
   "cell_type": "code",
   "execution_count": 6,
   "id": "abbcc53a-9716-49ae-ac5e-f70a7d912a12",
   "metadata": {},
   "outputs": [
    {
     "name": "stderr",
     "output_type": "stream",
     "text": [
      "100%|███████████████████████████████████████████| 79/79 [01:05<00:00,  1.20it/s]"
     ]
    },
    {
     "name": "stdout",
     "output_type": "stream",
     "text": [
      "\n",
      "Test set: Average loss: 0.0195, Accuracy: 1811/2500 (72%)\n",
      "\n"
     ]
    },
    {
     "name": "stderr",
     "output_type": "stream",
     "text": [
      "\n"
     ]
    }
   ],
   "source": [
    "valid_loss = 0\n",
    "correct = 0\n",
    "\n",
    "# pour ne aps calculer les gradients (gain de temps et de mémoire)\n",
    "with torch.no_grad():\n",
    "    for data, target in tqdm(valid_loader):\n",
    "        data = 2 * data - 1\n",
    "        data, target = data.to(device), target.to(device)\n",
    "        z = auto_co.encoder(data)\n",
    "        y_pred = latent_dis(z)\n",
    "        valid_loss += criterion(y_pred, target).item()\n",
    "        probs = torch.sigmoid(y_pred)  # Conversion logits → probabilités\n",
    "        pred = probs > 0.5\n",
    "        correct += pred.eq(target.view_as(pred)).sum().item()/40\n",
    "\n",
    "\n",
    "valid_loss /= len(valid_loader.dataset)\n",
    "\n",
    "print('\\nTest set: Average loss: {:.4f}, Accuracy: {:.0f}/{} ({:.0f}%)\\n'.format(\n",
    "    test_loss, correct, len(valid_loader.dataset),\n",
    "    100. * correct / len(valid_loader.dataset)))"
   ]
  },
  {
   "cell_type": "code",
   "execution_count": null,
   "id": "402ad51a-f08d-47bd-a20a-d8eaccccf612",
   "metadata": {},
   "outputs": [],
   "source": []
  }
 ],
 "metadata": {
  "kernelspec": {
   "display_name": "Python 3 (ipykernel)",
   "language": "python",
   "name": "python3"
  },
  "language_info": {
   "codemirror_mode": {
    "name": "ipython",
    "version": 3
   },
   "file_extension": ".py",
   "mimetype": "text/x-python",
   "name": "python",
   "nbconvert_exporter": "python",
   "pygments_lexer": "ipython3",
   "version": "3.9.18"
  }
 },
 "nbformat": 4,
 "nbformat_minor": 5
}
